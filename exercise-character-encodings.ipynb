{
 "cells": [
  {
   "cell_type": "markdown",
   "id": "d222f2b7",
   "metadata": {
    "papermill": {
     "duration": 0.007214,
     "end_time": "2022-12-31T16:08:10.357438",
     "exception": false,
     "start_time": "2022-12-31T16:08:10.350224",
     "status": "completed"
    },
    "tags": []
   },
   "source": [
    "**This notebook is an exercise in the [Data Cleaning](https://www.kaggle.com/learn/data-cleaning) course.  You can reference the tutorial at [this link](https://www.kaggle.com/alexisbcook/character-encodings).**\n",
    "\n",
    "---\n"
   ]
  },
  {
   "cell_type": "markdown",
   "id": "8b959ccc",
   "metadata": {
    "papermill": {
     "duration": 0.004537,
     "end_time": "2022-12-31T16:08:10.369787",
     "exception": false,
     "start_time": "2022-12-31T16:08:10.365250",
     "status": "completed"
    },
    "tags": []
   },
   "source": [
    "In this exercise, you'll apply what you learned in the **Character encodings** tutorial.\n",
    "\n",
    "# Setup\n",
    "\n",
    "The questions below will give you feedback on your work. Run the following cell to set up the feedback system."
   ]
  },
  {
   "cell_type": "code",
   "execution_count": 1,
   "id": "794795d5",
   "metadata": {
    "execution": {
     "iopub.execute_input": "2022-12-31T16:08:10.385696Z",
     "iopub.status.busy": "2022-12-31T16:08:10.385105Z",
     "iopub.status.idle": "2022-12-31T16:08:10.489112Z",
     "shell.execute_reply": "2022-12-31T16:08:10.486966Z"
    },
    "papermill": {
     "duration": 0.117032,
     "end_time": "2022-12-31T16:08:10.492674",
     "exception": false,
     "start_time": "2022-12-31T16:08:10.375642",
     "status": "completed"
    },
    "tags": []
   },
   "outputs": [
    {
     "name": "stdout",
     "output_type": "stream",
     "text": [
      "Setup Complete\n"
     ]
    }
   ],
   "source": [
    "from learntools.core import binder\n",
    "binder.bind(globals())\n",
    "from learntools.data_cleaning.ex4 import *\n",
    "print(\"Setup Complete\")"
   ]
  },
  {
   "cell_type": "markdown",
   "id": "597cceb1",
   "metadata": {
    "papermill": {
     "duration": 0.005207,
     "end_time": "2022-12-31T16:08:10.503105",
     "exception": false,
     "start_time": "2022-12-31T16:08:10.497898",
     "status": "completed"
    },
    "tags": []
   },
   "source": [
    "# Get our environment set up\n",
    "\n",
    "The first thing we'll need to do is load in the libraries we'll be using."
   ]
  },
  {
   "cell_type": "code",
   "execution_count": 2,
   "id": "cc77c835",
   "metadata": {
    "execution": {
     "iopub.execute_input": "2022-12-31T16:08:10.516624Z",
     "iopub.status.busy": "2022-12-31T16:08:10.515793Z",
     "iopub.status.idle": "2022-12-31T16:08:10.521764Z",
     "shell.execute_reply": "2022-12-31T16:08:10.520325Z"
    },
    "papermill": {
     "duration": 0.017337,
     "end_time": "2022-12-31T16:08:10.525338",
     "exception": false,
     "start_time": "2022-12-31T16:08:10.508001",
     "status": "completed"
    },
    "tags": []
   },
   "outputs": [],
   "source": [
    "# modules we'll use\n",
    "import pandas as pd\n",
    "import numpy as np\n",
    "\n",
    "# helpful character encoding module\n",
    "import chardet\n",
    "\n",
    "# set seed for reproducibility\n",
    "np.random.seed(0)"
   ]
  },
  {
   "cell_type": "markdown",
   "id": "5df62a1d",
   "metadata": {
    "papermill": {
     "duration": 0.005243,
     "end_time": "2022-12-31T16:08:10.538782",
     "exception": false,
     "start_time": "2022-12-31T16:08:10.533539",
     "status": "completed"
    },
    "tags": []
   },
   "source": [
    "# 1) What are encodings?\n",
    "\n",
    "You're working with a dataset composed of bytes.  Run the code cell below to print a sample entry."
   ]
  },
  {
   "cell_type": "code",
   "execution_count": 3,
   "id": "12a27a80",
   "metadata": {
    "execution": {
     "iopub.execute_input": "2022-12-31T16:08:10.551169Z",
     "iopub.status.busy": "2022-12-31T16:08:10.550664Z",
     "iopub.status.idle": "2022-12-31T16:08:10.557937Z",
     "shell.execute_reply": "2022-12-31T16:08:10.556467Z"
    },
    "papermill": {
     "duration": 0.016936,
     "end_time": "2022-12-31T16:08:10.560686",
     "exception": false,
     "start_time": "2022-12-31T16:08:10.543750",
     "status": "completed"
    },
    "tags": []
   },
   "outputs": [
    {
     "name": "stdout",
     "output_type": "stream",
     "text": [
      "b'\\xa7A\\xa6n'\n",
      "data type: <class 'bytes'>\n"
     ]
    }
   ],
   "source": [
    "sample_entry = b'\\xa7A\\xa6n'\n",
    "print(sample_entry)\n",
    "print('data type:', type(sample_entry))"
   ]
  },
  {
   "cell_type": "markdown",
   "id": "b195f9f5",
   "metadata": {
    "papermill": {
     "duration": 0.00464,
     "end_time": "2022-12-31T16:08:10.570308",
     "exception": false,
     "start_time": "2022-12-31T16:08:10.565668",
     "status": "completed"
    },
    "tags": []
   },
   "source": [
    "You notice that it doesn't use the standard UTF-8 encoding. \n",
    "\n",
    "Use the next code cell to create a variable `new_entry` that changes the encoding from `\"big5-tw\"` to `\"utf-8\"`.  `new_entry` should have the bytes datatype."
   ]
  },
  {
   "cell_type": "code",
   "execution_count": 4,
   "id": "6b1f1484",
   "metadata": {
    "execution": {
     "iopub.execute_input": "2022-12-31T16:08:10.583145Z",
     "iopub.status.busy": "2022-12-31T16:08:10.582210Z",
     "iopub.status.idle": "2022-12-31T16:08:10.595313Z",
     "shell.execute_reply": "2022-12-31T16:08:10.594099Z"
    },
    "papermill": {
     "duration": 0.022878,
     "end_time": "2022-12-31T16:08:10.598366",
     "exception": false,
     "start_time": "2022-12-31T16:08:10.575488",
     "status": "completed"
    },
    "tags": []
   },
   "outputs": [
    {
     "data": {
      "application/javascript": [
       "parent.postMessage({\"jupyterEvent\": \"custom.exercise_interaction\", \"data\": {\"outcomeType\": 1, \"valueTowardsCompletion\": 0.3333333333333333, \"interactionType\": 1, \"questionType\": 1, \"questionId\": \"1_EncodingsIntro\", \"learnToolsVersion\": \"0.3.4\", \"failureMessage\": \"\", \"exceptionClass\": \"\", \"trace\": \"\"}}, \"*\")"
      ],
      "text/plain": [
       "<IPython.core.display.Javascript object>"
      ]
     },
     "metadata": {},
     "output_type": "display_data"
    },
    {
     "data": {
      "text/markdown": [
       "<span style=\"color:#33cc33\">Correct</span>"
      ],
      "text/plain": [
       "Correct"
      ]
     },
     "metadata": {},
     "output_type": "display_data"
    }
   ],
   "source": [
    "after=sample_entry.decode(\"big5.tw\")\n",
    "new_entry =after.encode(\"utf-8\",errors = \"replace\")\n",
    "\n",
    "# Check your answer\n",
    "q1.check()"
   ]
  },
  {
   "cell_type": "code",
   "execution_count": 5,
   "id": "6ade7baf",
   "metadata": {
    "execution": {
     "iopub.execute_input": "2022-12-31T16:08:10.611078Z",
     "iopub.status.busy": "2022-12-31T16:08:10.610606Z",
     "iopub.status.idle": "2022-12-31T16:08:10.620864Z",
     "shell.execute_reply": "2022-12-31T16:08:10.619545Z"
    },
    "papermill": {
     "duration": 0.019625,
     "end_time": "2022-12-31T16:08:10.623655",
     "exception": false,
     "start_time": "2022-12-31T16:08:10.604030",
     "status": "completed"
    },
    "tags": []
   },
   "outputs": [
    {
     "data": {
      "application/javascript": [
       "parent.postMessage({\"jupyterEvent\": \"custom.exercise_interaction\", \"data\": {\"interactionType\": 2, \"questionType\": 1, \"questionId\": \"1_EncodingsIntro\", \"learnToolsVersion\": \"0.3.4\", \"valueTowardsCompletion\": 0.0, \"failureMessage\": \"\", \"exceptionClass\": \"\", \"trace\": \"\", \"outcomeType\": 4}}, \"*\")"
      ],
      "text/plain": [
       "<IPython.core.display.Javascript object>"
      ]
     },
     "metadata": {},
     "output_type": "display_data"
    },
    {
     "data": {
      "text/markdown": [
       "<span style=\"color:#3366cc\">Hint:</span> Try using `.decode()` to get the string, then `.encode()` to get the bytes representation, encoded in UTF-8."
      ],
      "text/plain": [
       "Hint: Try using `.decode()` to get the string, then `.encode()` to get the bytes representation, encoded in UTF-8."
      ]
     },
     "metadata": {},
     "output_type": "display_data"
    }
   ],
   "source": [
    "# Lines below will give you a hint or solution code\n",
    "q1.hint()\n",
    "#q1.solution()"
   ]
  },
  {
   "cell_type": "markdown",
   "id": "ccce4afe",
   "metadata": {
    "papermill": {
     "duration": 0.005192,
     "end_time": "2022-12-31T16:08:10.636266",
     "exception": false,
     "start_time": "2022-12-31T16:08:10.631074",
     "status": "completed"
    },
    "tags": []
   },
   "source": [
    "# 2) Reading in files with encoding problems\n",
    "\n",
    "Use the code cell below to read in this file at path `\"../input/fatal-police-shootings-in-the-us/PoliceKillingsUS.csv\"`.  \n",
    "\n",
    "Figure out what the correct encoding should be and read in the file to a DataFrame `police_killings`."
   ]
  },
  {
   "cell_type": "code",
   "execution_count": 6,
   "id": "c1668851",
   "metadata": {
    "execution": {
     "iopub.execute_input": "2022-12-31T16:08:10.649146Z",
     "iopub.status.busy": "2022-12-31T16:08:10.648662Z",
     "iopub.status.idle": "2022-12-31T16:08:10.676392Z",
     "shell.execute_reply": "2022-12-31T16:08:10.675093Z"
    },
    "papermill": {
     "duration": 0.037575,
     "end_time": "2022-12-31T16:08:10.679297",
     "exception": false,
     "start_time": "2022-12-31T16:08:10.641722",
     "status": "completed"
    },
    "tags": []
   },
   "outputs": [
    {
     "data": {
      "application/javascript": [
       "parent.postMessage({\"jupyterEvent\": \"custom.exercise_interaction\", \"data\": {\"outcomeType\": 1, \"valueTowardsCompletion\": 0.3333333333333333, \"interactionType\": 1, \"questionType\": 1, \"questionId\": \"2_ReadIn\", \"learnToolsVersion\": \"0.3.4\", \"failureMessage\": \"\", \"exceptionClass\": \"\", \"trace\": \"\"}}, \"*\")"
      ],
      "text/plain": [
       "<IPython.core.display.Javascript object>"
      ]
     },
     "metadata": {},
     "output_type": "display_data"
    },
    {
     "data": {
      "text/markdown": [
       "<span style=\"color:#33cc33\">Correct</span>"
      ],
      "text/plain": [
       "Correct"
      ]
     },
     "metadata": {},
     "output_type": "display_data"
    }
   ],
   "source": [
    "# TODO: Load in the DataFrame correctly.\n",
    "police_killings =pd.read_csv(\"../input/fatal-police-shootings-in-the-us/PoliceKillingsUS.csv\", encoding='windows-1252')\n",
    "\n",
    "# Check your answer\n",
    "q2.check()"
   ]
  },
  {
   "cell_type": "markdown",
   "id": "d0f95526",
   "metadata": {
    "papermill": {
     "duration": 0.007594,
     "end_time": "2022-12-31T16:08:10.692550",
     "exception": false,
     "start_time": "2022-12-31T16:08:10.684956",
     "status": "completed"
    },
    "tags": []
   },
   "source": [
    "Feel free to use any additional code cells for supplemental work.  To get credit for finishing this question, you'll need to run `q2.check()` and get a result of **Correct**."
   ]
  },
  {
   "cell_type": "code",
   "execution_count": 7,
   "id": "47745c16",
   "metadata": {
    "execution": {
     "iopub.execute_input": "2022-12-31T16:08:10.707137Z",
     "iopub.status.busy": "2022-12-31T16:08:10.705660Z",
     "iopub.status.idle": "2022-12-31T16:08:12.249861Z",
     "shell.execute_reply": "2022-12-31T16:08:12.248461Z"
    },
    "papermill": {
     "duration": 1.55398,
     "end_time": "2022-12-31T16:08:12.252554",
     "exception": false,
     "start_time": "2022-12-31T16:08:10.698574",
     "status": "completed"
    },
    "tags": []
   },
   "outputs": [
    {
     "name": "stdout",
     "output_type": "stream",
     "text": [
      "{'encoding': 'Windows-1252', 'confidence': 0.73, 'language': ''}\n"
     ]
    }
   ],
   "source": [
    "# (Optional) Use this code cell for any additional work.\n",
    "with open(\"../input/fatal-police-shootings-in-the-us/PoliceKillingsUS.csv\",\"rb\") as rawdata:\n",
    "    result=chardet.detect(rawdata.read(100000))\n",
    "\n",
    "print(result)"
   ]
  },
  {
   "cell_type": "code",
   "execution_count": 8,
   "id": "90ef508c",
   "metadata": {
    "execution": {
     "iopub.execute_input": "2022-12-31T16:08:12.265641Z",
     "iopub.status.busy": "2022-12-31T16:08:12.265232Z",
     "iopub.status.idle": "2022-12-31T16:08:12.279007Z",
     "shell.execute_reply": "2022-12-31T16:08:12.277957Z"
    },
    "papermill": {
     "duration": 0.023393,
     "end_time": "2022-12-31T16:08:12.281648",
     "exception": false,
     "start_time": "2022-12-31T16:08:12.258255",
     "status": "completed"
    },
    "tags": []
   },
   "outputs": [
    {
     "data": {
      "application/javascript": [
       "parent.postMessage({\"jupyterEvent\": \"custom.exercise_interaction\", \"data\": {\"interactionType\": 2, \"questionType\": 1, \"questionId\": \"2_ReadIn\", \"learnToolsVersion\": \"0.3.4\", \"valueTowardsCompletion\": 0.0, \"failureMessage\": \"\", \"exceptionClass\": \"\", \"trace\": \"\", \"outcomeType\": 4}}, \"*\")"
      ],
      "text/plain": [
       "<IPython.core.display.Javascript object>"
      ]
     },
     "metadata": {},
     "output_type": "display_data"
    },
    {
     "data": {
      "text/markdown": [
       "<span style=\"color:#3366cc\">Hint:</span> If you try to guess the encoding with the first 10,000 bytes of the file, it might give you the wrong answer.  Try using 100,000 or more lines of the file."
      ],
      "text/plain": [
       "Hint: If you try to guess the encoding with the first 10,000 bytes of the file, it might give you the wrong answer.  Try using 100,000 or more lines of the file."
      ]
     },
     "metadata": {},
     "output_type": "display_data"
    },
    {
     "data": {
      "application/javascript": [
       "parent.postMessage({\"jupyterEvent\": \"custom.exercise_interaction\", \"data\": {\"interactionType\": 3, \"questionType\": 1, \"questionId\": \"2_ReadIn\", \"learnToolsVersion\": \"0.3.4\", \"valueTowardsCompletion\": 0.0, \"failureMessage\": \"\", \"exceptionClass\": \"\", \"trace\": \"\", \"outcomeType\": 4}}, \"*\")"
      ],
      "text/plain": [
       "<IPython.core.display.Javascript object>"
      ]
     },
     "metadata": {},
     "output_type": "display_data"
    },
    {
     "data": {
      "text/markdown": [
       "<span style=\"color:#33cc99\">Solution:</span> \n",
       "```python\n",
       "police_killings = pd.read_csv(\"../input/fatal-police-shootings-in-the-us/PoliceKillingsUS.csv\", encoding='Windows-1252')\n",
       "\n",
       "```"
      ],
      "text/plain": [
       "Solution: \n",
       "```python\n",
       "police_killings = pd.read_csv(\"../input/fatal-police-shootings-in-the-us/PoliceKillingsUS.csv\", encoding='Windows-1252')\n",
       "\n",
       "```"
      ]
     },
     "metadata": {},
     "output_type": "display_data"
    }
   ],
   "source": [
    "# Lines below will give you a hint or solution code\n",
    "q2.hint()\n",
    "q2.solution()"
   ]
  },
  {
   "cell_type": "markdown",
   "id": "c2c4728c",
   "metadata": {
    "papermill": {
     "duration": 0.005779,
     "end_time": "2022-12-31T16:08:12.293677",
     "exception": false,
     "start_time": "2022-12-31T16:08:12.287898",
     "status": "completed"
    },
    "tags": []
   },
   "source": [
    "# 3) Saving your files with UTF-8 encoding\n",
    "\n",
    "Save a version of the police killings dataset to CSV with UTF-8 encoding.  Your answer will be marked correct after saving this file.  \n",
    "\n",
    "Note: When using the `to_csv()` method, supply only the name of the file (e.g., `\"my_file.csv\"`).  This saves the file at the filepath `\"/kaggle/working/my_file.csv\"`."
   ]
  },
  {
   "cell_type": "code",
   "execution_count": 9,
   "id": "cd207ffa",
   "metadata": {
    "execution": {
     "iopub.execute_input": "2022-12-31T16:08:12.307453Z",
     "iopub.status.busy": "2022-12-31T16:08:12.307029Z",
     "iopub.status.idle": "2022-12-31T16:08:12.332689Z",
     "shell.execute_reply": "2022-12-31T16:08:12.331709Z"
    },
    "papermill": {
     "duration": 0.035258,
     "end_time": "2022-12-31T16:08:12.334969",
     "exception": false,
     "start_time": "2022-12-31T16:08:12.299711",
     "status": "completed"
    },
    "tags": []
   },
   "outputs": [
    {
     "data": {
      "application/javascript": [
       "parent.postMessage({\"jupyterEvent\": \"custom.exercise_interaction\", \"data\": {\"outcomeType\": 2, \"failureMessage\": \"Please save a CSV file and run this code cell again to get credit!\", \"interactionType\": 1, \"questionType\": 2, \"questionId\": \"3_SaveCSV\", \"learnToolsVersion\": \"0.3.4\", \"valueTowardsCompletion\": 0.0, \"exceptionClass\": \"\", \"trace\": \"\"}}, \"*\")"
      ],
      "text/plain": [
       "<IPython.core.display.Javascript object>"
      ]
     },
     "metadata": {},
     "output_type": "display_data"
    },
    {
     "data": {
      "text/markdown": [
       "<span style=\"color:#cc3333\">Incorrect:</span> Please save a CSV file and run this code cell again to get credit!"
      ],
      "text/plain": [
       "Incorrect: Please save a CSV file and run this code cell again to get credit!"
      ]
     },
     "metadata": {},
     "output_type": "display_data"
    }
   ],
   "source": [
    "# TODO: Save the police killings dataset to CSV\n",
    "police_killings.to_csv(\"killing\")\n",
    "\n",
    "# Check your answer\n",
    "q3.check()"
   ]
  },
  {
   "cell_type": "code",
   "execution_count": 10,
   "id": "1e5ef8b9",
   "metadata": {
    "execution": {
     "iopub.execute_input": "2022-12-31T16:08:12.350242Z",
     "iopub.status.busy": "2022-12-31T16:08:12.348854Z",
     "iopub.status.idle": "2022-12-31T16:08:12.355314Z",
     "shell.execute_reply": "2022-12-31T16:08:12.353994Z"
    },
    "papermill": {
     "duration": 0.017168,
     "end_time": "2022-12-31T16:08:12.358576",
     "exception": false,
     "start_time": "2022-12-31T16:08:12.341408",
     "status": "completed"
    },
    "tags": []
   },
   "outputs": [],
   "source": [
    "# Lines below will give you a hint or solution code\n",
    "#q3.hint()\n",
    "#q3.solution()"
   ]
  },
  {
   "cell_type": "markdown",
   "id": "197604e3",
   "metadata": {
    "papermill": {
     "duration": 0.006257,
     "end_time": "2022-12-31T16:08:12.373382",
     "exception": false,
     "start_time": "2022-12-31T16:08:12.367125",
     "status": "completed"
    },
    "tags": []
   },
   "source": [
    "# (Optional) More practice\n",
    "\n",
    "Check out [this dataset of files in different character encodings](https://www.kaggle.com/rtatman/character-encoding-examples). Can you read in all the files with their original encodings and them save them out as UTF-8 files?\n",
    "\n",
    "If you have a file that's in UTF-8 but has just a couple of weird-looking characters in it, you can try out the [ftfy module](https://ftfy.readthedocs.io/en/latest/#) and see if it helps. \n",
    "\n",
    "# Keep going\n",
    "\n",
    "In the final lesson, learn how to [**clean up inconsistent text entries**](https://www.kaggle.com/alexisbcook/inconsistent-data-entry) in your dataset."
   ]
  },
  {
   "cell_type": "markdown",
   "id": "8e2bda52",
   "metadata": {
    "papermill": {
     "duration": 0.009286,
     "end_time": "2022-12-31T16:08:12.391364",
     "exception": false,
     "start_time": "2022-12-31T16:08:12.382078",
     "status": "completed"
    },
    "tags": []
   },
   "source": [
    "---\n",
    "\n",
    "\n",
    "\n",
    "\n",
    "*Have questions or comments? Visit the [course discussion forum](https://www.kaggle.com/learn/data-cleaning/discussion) to chat with other learners.*"
   ]
  }
 ],
 "metadata": {
  "kernelspec": {
   "display_name": "Python 3",
   "language": "python",
   "name": "python3"
  },
  "language_info": {
   "codemirror_mode": {
    "name": "ipython",
    "version": 3
   },
   "file_extension": ".py",
   "mimetype": "text/x-python",
   "name": "python",
   "nbconvert_exporter": "python",
   "pygments_lexer": "ipython3",
   "version": "3.7.12"
  },
  "papermill": {
   "default_parameters": {},
   "duration": 11.691026,
   "end_time": "2022-12-31T16:08:13.123825",
   "environment_variables": {},
   "exception": null,
   "input_path": "__notebook__.ipynb",
   "output_path": "__notebook__.ipynb",
   "parameters": {},
   "start_time": "2022-12-31T16:08:01.432799",
   "version": "2.3.4"
  }
 },
 "nbformat": 4,
 "nbformat_minor": 5
}
